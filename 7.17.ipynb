{
 "cells": [
  {
   "cell_type": "markdown",
   "metadata": {},
   "source": [
    "# 数学函数、字符串和对象\n",
    "## 本章介绍Python函数来执行常见的数学运算\n",
    "- 函数是完成一个特殊任务的一组语句，可以理解为一个函数相当于一个小功能，但是在开发中，需要注意一个函数的长度最好不要超过一屏\n",
    "- Python中的内置函数是不需要Import导入的\n",
    "<img src=\"../Photo/Photo/15.png\"></img>"
   ]
  },
  {
   "cell_type": "code",
   "execution_count": 3,
   "metadata": {},
   "outputs": [
    {
     "data": {
      "text/plain": [
       "8"
      ]
     },
     "execution_count": 3,
     "metadata": {},
     "output_type": "execute_result"
    }
   ],
   "source": [
    "pow (2,3,20)"
   ]
  },
  {
   "cell_type": "markdown",
   "metadata": {},
   "source": [
    "## 尝试练习Python内置函数"
   ]
  },
  {
   "cell_type": "code",
   "execution_count": 7,
   "metadata": {},
   "outputs": [
    {
     "name": "stdout",
     "output_type": "stream",
     "text": [
      ">>>1,2,3\n",
      "最大值为 3 最小值为 1\n"
     ]
    }
   ],
   "source": [
    "num = eval (input('>>>'))\n",
    "print('最大值为',max(num),'最小值为',min(num))"
   ]
  },
  {
   "cell_type": "code",
   "execution_count": 12,
   "metadata": {},
   "outputs": [
    {
     "name": "stdout",
     "output_type": "stream",
     "text": [
      "输入三个数字，以，分割1,2,3\n",
      "请学则你要执行的方式：max,min,pow2pow2\n",
      "14\n"
     ]
    }
   ],
   "source": [
    "a,b,c = eval ( input ('输入三个数字，以，分割')) \n",
    "choose_method = input ( '请学则你要执行的方式：max,min,pow2')\n",
    "if choose_method == 'max':\n",
    "    max_ = max (a,b,c)\n",
    "    print(max_)\n",
    "elif choose_method == 'min':\n",
    "    min_ = min (a,b,c)\n",
    "    print(min_)\n",
    "elif choose_method == 'pow2':\n",
    "    pow_sum = pow(a,2)+pow(b,2)+pow(c,2)\n",
    "    print (pow_sum)"
   ]
  },
  {
   "cell_type": "code",
   "execution_count": null,
   "metadata": {},
   "outputs": [],
   "source": []
  },
  {
   "cell_type": "markdown",
   "metadata": {},
   "source": [
    "## Python中的math模块提供了许多数学函数\n",
    "<img src=\"../Photo/Photo/16.png\"></img>\n",
    "<img src=\"../Photo/Photo/17.png\"></img>\n"
   ]
  },
  {
   "cell_type": "code",
   "execution_count": null,
   "metadata": {},
   "outputs": [],
   "source": [
    "import math\n",
    "math.radians(math.pi/55)"
   ]
  },
  {
   "cell_type": "code",
   "execution_count": 14,
   "metadata": {},
   "outputs": [
    {
     "data": {
      "image/png": "[encoded data removed]",
      "text/plain": [
       "<matplotlib.figure.Figure at 0x226ee8a8668>"
      ]
     },
     "metadata": {},
     "output_type": "display_data"
    }
   ],
   "source": [
    "import math\n",
    "import matplotlib.pyplot as plt\n",
    "list_ = []\n",
    "for z in range ( -50,50):\n",
    "    res=1./(1. + math.exp(-z))\n",
    "    list_.append(res)\n",
    "plt.plot(list_)\n",
    "plt.show()"
   ]
  },
  {
   "cell_type": "code",
   "execution_count": 106,
   "metadata": {},
   "outputs": [
    {
     "data": {
      "text/plain": [
       "1"
      ]
     },
     "execution_count": 106,
     "metadata": {},
     "output_type": "execute_result"
    }
   ],
   "source": [
    "import random\n",
    "random_num=random.random()\n",
    "res=1./(1. + math.exp(- random_num))\n",
    "round(res)\n",
    "\n"
   ]
  },
  {
   "cell_type": "markdown",
   "metadata": {},
   "source": [
    "## 两个数学常量PI和e，可以通过使用math.pi 和math.e调用"
   ]
  },
  {
   "cell_type": "markdown",
   "metadata": {},
   "source": [
    "## EP:\n",
    "- 通过math库，写一个程序，使得用户输入三个顶点(x,y)返回三个角度\n",
    "- 注意：Python计算角度为弧度制，需要将其转换为角度\n",
    "<img src=\"../Photo/Photo/18.png\">"
   ]
  },
  {
   "cell_type": "markdown",
   "metadata": {},
   "source": [
    "## 字符串和字符\n",
    "- 在Python中，字符串必须是在单引号或者双引号内，在多段换行的字符串中可以使用“”“\n",
    "- 在使用”“”时，给予其变量则变为字符串，否则当多行注释使用"
   ]
  },
  {
   "cell_type": "markdown",
   "metadata": {},
   "source": [
    "## ASCII码与Unicode码\n",
    "- <img src=\"../Photo/Photo/19.png\"></img>\n",
    "- <img src=\"../Photo/Photo/20.png\"></img>\n",
    "- <img src=\"../Photo/Photo/21.png\"></img>"
   ]
  },
  {
   "cell_type": "markdown",
   "metadata": {},
   "source": [
    "## 函数ord、chr\n",
    "- ord 返回ASCII码值\n",
    "- chr 返回字符"
   ]
  },
  {
   "cell_type": "markdown",
   "metadata": {},
   "source": [
    "## EP:\n",
    "- 利用ord与chr进行简单邮箱加密"
   ]
  },
  {
   "cell_type": "code",
   "execution_count": 16,
   "metadata": {},
   "outputs": [
    {
     "name": "stdout",
     "output_type": "stream",
     "text": [
      ";:>==<@?CCJ{{8myw"
     ]
    }
   ],
   "source": [
    "email = ('1043326599@qq.com')\n",
    "for i in email:\n",
    "    print(chr(ord(i) + 10),end ='')"
   ]
  },
  {
   "cell_type": "code",
   "execution_count": null,
   "metadata": {},
   "outputs": [],
   "source": [
    "email = ('1043326599@qq.com')\n",
    "result = ''\n",
    "for i in email:\n",
    "    result += chr(ord(i) + 10)\n",
    "    print(result)\n",
    "print(result)"
   ]
  },
  {
   "cell_type": "code",
   "execution_count": 1,
   "metadata": {},
   "outputs": [
    {
     "data": {
      "text/plain": [
       "24378"
      ]
     },
     "execution_count": 1,
     "metadata": {},
     "output_type": "execute_result"
    }
   ],
   "source": [
    "ord ('强')"
   ]
  },
  {
   "cell_type": "code",
   "execution_count": 23,
   "metadata": {},
   "outputs": [
    {
     "data": {
      "text/plain": [
       "'付'"
      ]
     },
     "execution_count": 23,
     "metadata": {},
     "output_type": "execute_result"
    }
   ],
   "source": [
    "chr (20184)"
   ]
  },
  {
   "cell_type": "code",
   "execution_count": 48,
   "metadata": {},
   "outputs": [
    {
     "name": "stdout",
     "output_type": "stream",
     "text": [
      "suibian\n",
      "d41d8cd98f00b204e9800998ecf8427e\n"
     ]
    }
   ],
   "source": [
    "import hashlib\n",
    "str_ = 'suibian'\n",
    "h1 = hashlib.md5()\n",
    "#h1.update(str_.encode(encoding= 'utf-8'))\n",
    "print (str_)\n",
    "print (h1.hexdigest())\n",
    "#md5加密"
   ]
  },
  {
   "cell_type": "code",
   "execution_count": 47,
   "metadata": {},
   "outputs": [
    {
     "name": "stdout",
     "output_type": "stream",
     "text": [
      "输入你的密码suibian\n",
      "凉凉\n"
     ]
    }
   ],
   "source": [
    "import hashlib\n",
    "data = 'd41d8cd98f00b204e9800998ecf8427e '\n",
    "pwd = str(input('输入你的密码'))\n",
    "h1 = hashlib.md5()\n",
    "h1.update(pwd.encode(encoding= 'utf-8'))\n",
    "if data==h1.hexdigest() :\n",
    "    print('登陆成功')\n",
    "else :\n",
    "    print('凉凉')"
   ]
  },
  {
   "cell_type": "markdown",
   "metadata": {},
   "source": [
    "## 转义序列 \\\n",
    "- a = \"He said,\"Johon's program is easy to read\"\n",
    "- 转掉它原来的意思\n",
    "- 一般情况下只有当语句与默认方法相撞的时候，就需要转义"
   ]
  },
  {
   "cell_type": "code",
   "execution_count": null,
   "metadata": {},
   "outputs": [],
   "source": [
    "a = \"He said,\\\"Johon's program is easy to read\"\n",
    "#将\"转译为普通的引号"
   ]
  },
  {
   "cell_type": "markdown",
   "metadata": {},
   "source": [
    "## 高级print\n",
    "- 参数 end： 以什么方式结束打印\n",
    "- 默认换行打印"
   ]
  },
  {
   "cell_type": "code",
   "execution_count": null,
   "metadata": {},
   "outputs": [],
   "source": [
    "sep=''除去空格， end='!' print ('a','b'sep='', end= '!')"
   ]
  },
  {
   "cell_type": "markdown",
   "metadata": {},
   "source": [
    "## 函数str\n",
    "- 将类型强制转换成字符串类型\n",
    "- 其他一些以后会学到(list,set,tuple...)"
   ]
  },
  {
   "cell_type": "markdown",
   "metadata": {},
   "source": [
    "## 字符串连接操作\n",
    "- 直接使用 “+” \n",
    "- join() 函数 "
   ]
  },
  {
   "cell_type": "markdown",
   "metadata": {},
   "source": [
    "## EP：\n",
    "- 将 “Welcome” “to” \"Python\" 拼接\n",
    "- 将int型 100 与 “joker is a bad man” 拼接\n",
    "- 从控制台读取字符串\n",
    "> 输入一个名字返回夸奖此人"
   ]
  },
  {
   "cell_type": "code",
   "execution_count": 57,
   "metadata": {},
   "outputs": [
    {
     "data": {
      "text/plain": [
       "'1!2!3'"
      ]
     },
     "execution_count": 57,
     "metadata": {},
     "output_type": "execute_result"
    }
   ],
   "source": [
    "'!'.join('123')"
   ]
  },
  {
   "cell_type": "code",
   "execution_count": 50,
   "metadata": {},
   "outputs": [
    {
     "data": {
      "text/plain": [
       "'Welcome to Python'"
      ]
     },
     "execution_count": 50,
     "metadata": {},
     "output_type": "execute_result"
    }
   ],
   "source": [
    "'Welcome'+' to'+' Python'"
   ]
  },
  {
   "cell_type": "code",
   "execution_count": 51,
   "metadata": {},
   "outputs": [
    {
     "data": {
      "text/plain": [
       "'100joker is a bad man'"
      ]
     },
     "execution_count": 51,
     "metadata": {},
     "output_type": "execute_result"
    }
   ],
   "source": [
    "'100'+'joker is a bad man'"
   ]
  },
  {
   "cell_type": "code",
   "execution_count": 52,
   "metadata": {},
   "outputs": [
    {
     "name": "stdout",
     "output_type": "stream",
     "text": [
      "输入一个名字夸奖此人付志强\n",
      "付志强真棒\n"
     ]
    }
   ],
   "source": [
    "str_ = str(input ('输入一个名字夸奖此人'))\n",
    "print(str(str_)+'真棒')"
   ]
  },
  {
   "cell_type": "markdown",
   "metadata": {},
   "source": [
    "## 实例研究：最小数量硬币\n",
    "- 开发一个程序，让用户输入总金额，这是一个用美元和美分表示的浮点值，返回一个由美元、两角五分的硬币、一角的硬币、五分硬币、以及美分个数\n",
    "<img src=\"../Photo/Photo/22.png\"></img>"
   ]
  },
  {
   "cell_type": "markdown",
   "metadata": {},
   "source": [
    "- Python弱项，对于浮点型的处理并不是很好，但是处理数据的时候使用的是Numpy类型\n",
    "<img src=\"../Photo/Photo/23.png\"></img>"
   ]
  },
  {
   "cell_type": "markdown",
   "metadata": {},
   "source": [
    "## id与type\n",
    "- id 查看内存地址，在判断语句中将会使用\n",
    "- type 查看元素类型"
   ]
  },
  {
   "cell_type": "code",
   "execution_count": null,
   "metadata": {},
   "outputs": [],
   "source": [
    "-5到256使用的是同一ip地址   再256之后  进行改变 "
   ]
  },
  {
   "cell_type": "code",
   "execution_count": null,
   "metadata": {},
   "outputs": [],
   "source": []
  },
  {
   "cell_type": "markdown",
   "metadata": {},
   "source": [
    "## 其他格式化语句见书"
   ]
  },
  {
   "cell_type": "markdown",
   "metadata": {},
   "source": [
    "# Homework\n",
    "- 1\n",
    "<img src=\"../Photo/Photo/24.png\"><img>\n",
    "<img src=\"../Photo/Photo/25.png\"><img>"
   ]
  },
  {
   "cell_type": "code",
   "execution_count": 90,
   "metadata": {},
   "outputs": [
    {
     "name": "stdout",
     "output_type": "stream",
     "text": [
      "输入顶点到中心的距离5.5\n",
      "这个五边形的面积为 71.92\n"
     ]
    }
   ],
   "source": [
    "import math\n",
    "r = eval ( input ( '输入顶点到中心的距离'))\n",
    "s = 2 * r* math.sin((math.pi/5))\n",
    "Area = 5 * s * s / (4*math.tan(math.pi/5))\n",
    "print('这个五边形的面积为',round(Area,2))"
   ]
  },
  {
   "cell_type": "markdown",
   "metadata": {},
   "source": [
    "- 2\n",
    "<img src=\"../Photo/Photo/26.png\"><img>"
   ]
  },
  {
   "cell_type": "code",
   "execution_count": 101,
   "metadata": {},
   "outputs": [
    {
     "name": "stdout",
     "output_type": "stream",
     "text": [
      "输入第一个点的经度和纬度39.55,-116.25\n",
      "输入第二个点的经度和纬度41.5,87.37\n",
      "两点之间的距离为  10691.79183231593 km\n"
     ]
    }
   ],
   "source": [
    "import math\n",
    "radius = 6371.01\n",
    "x1,y1 = eval ( input ('输入第一个点的经度和纬度'))\n",
    "x2,y2 = eval ( input ('输入第二个点的经度和纬度'))\n",
    "#d= radius*math.acos*(math.sin(math.radians(x1))*math.sin(math.radians(x2))+math.cos(math.radians(x1))*math.cos(math.radians(x2))*math.cos((math.radians(y1))-(math.radians(y2))))\n",
    "a = math.sin(math.radians(x1))*math.sin(math.radians(x2))+math.cos(math.radians(x1))*math.cos(math.radians(x2))*math.cos((math.radians(y1))-(math.radians(y2)))\n",
    "d = radius*math.acos(a)\n",
    "print('两点之间的距离为 ',d,'km')"
   ]
  },
  {
   "cell_type": "markdown",
   "metadata": {},
   "source": [
    "- 3\n",
    "<img src=\"../Photo/Photo/27.png\"><img>"
   ]
  },
  {
   "cell_type": "code",
   "execution_count": 104,
   "metadata": {},
   "outputs": [
    {
     "name": "stdout",
     "output_type": "stream",
     "text": [
      "输入五角形的边长5.5\n",
      "52.044441367816255\n"
     ]
    }
   ],
   "source": [
    "import math\n",
    "s = eval ( input ( '输入五角形的边长'))\n",
    "Area = 5 * s * s / (4*math.tan(math.pi/5))\n",
    "print (Area )"
   ]
  },
  {
   "cell_type": "markdown",
   "metadata": {},
   "source": [
    "- 4\n",
    "<img src=\"../Photo/Photo/28.png\"><img>"
   ]
  },
  {
   "cell_type": "code",
   "execution_count": 105,
   "metadata": {},
   "outputs": [
    {
     "name": "stdout",
     "output_type": "stream",
     "text": [
      "输入这个正多边形有几条边5\n",
      "输入这个正多边形的边长6.5\n",
      "这个正多边形的面积为： 72.69017017488386\n"
     ]
    }
   ],
   "source": [
    "import math\n",
    "n = eval ( input ('输入这个正多边形有几条边'))\n",
    "s = eval ( input ('输入这个正多边形的边长'))\n",
    "Area = n*s*s/(4*math.tan(math.pi/5))\n",
    "print('这个正多边形的面积为：',Area)"
   ]
  },
  {
   "cell_type": "markdown",
   "metadata": {},
   "source": [
    "- 5\n",
    "<img src=\"../Photo/Photo/29.png\"><img>\n",
    "<img src=\"../Photo/Photo/30.png\"><img>"
   ]
  },
  {
   "cell_type": "code",
   "execution_count": 108,
   "metadata": {},
   "outputs": [
    {
     "name": "stdout",
     "output_type": "stream",
     "text": [
      "输入一个0-127的ASCII值：69\n",
      "这个字符为 E\n"
     ]
    }
   ],
   "source": [
    "num = eval (input('输入一个0-127的ASCII值：'))\n",
    "\n",
    "print('这个字符为',chr(num))"
   ]
  },
  {
   "cell_type": "markdown",
   "metadata": {},
   "source": [
    "- 6\n",
    "<img src=\"../Photo/Photo/31.png\"><img>"
   ]
  },
  {
   "cell_type": "code",
   "execution_count": 117,
   "metadata": {},
   "outputs": [
    {
     "name": "stdout",
     "output_type": "stream",
     "text": [
      "输入雇员姓名Join\n",
      "输入员工这星期的工作时长10\n",
      "输入每小时应获得的报酬9.75\n",
      "输入联邦预扣税率0.2\n",
      "输入州预扣税率0.09\n",
      "员工姓名： Join\n",
      "这周工作时长： 10\n",
      "每小时应得报酬：$ 9.75\n",
      "赚取税前工资：$ 97.5\n",
      "应交税：\n",
      "     联邦税率(20%)：$ 19.5\n",
      "     州税率(9%)：$ 8.775\n",
      "     总交税：$ 28.275\n",
      "税后得到工资：$ 69.225\n"
     ]
    }
   ],
   "source": [
    "name = str ( input ( '输入雇员姓名'))\n",
    "week = eval ( input ( '输入员工这星期的工作时长'))\n",
    "rate = eval ( input ( '输入每小时应获得的报酬') )\n",
    "lshui = eval (input ( '输入联邦预扣税率'))\n",
    "zshui = eval (input ( '输入州预扣税率'))\n",
    "print ( '员工姓名：',name)\n",
    "print ( '这周工作时长：',week)\n",
    "print ( '每小时应得报酬：$',rate)\n",
    "money=rate*week\n",
    "print ( '赚取税前工资：$',money)\n",
    "print ( '应交税：')\n",
    "lmoney=money*20/100\n",
    "print ( '     联邦税率(20%)：$', lmoney)\n",
    "zmoney = money*9/100\n",
    "print ( '     州税率(9%)：$', zmoney)\n",
    "summoney = zmoney+lmoney\n",
    "print ( '     总交税：$',summoney)\n",
    "getmoney = money-summoney\n",
    "print ( '税后得到工资：$',getmoney)"
   ]
  },
  {
   "cell_type": "markdown",
   "metadata": {},
   "source": [
    "- 7\n",
    "<img src=\"../Photo/Photo/32.png\"><img>"
   ]
  },
  {
   "cell_type": "code",
   "execution_count": 136,
   "metadata": {},
   "outputs": [
    {
     "name": "stdout",
     "output_type": "stream",
     "text": [
      "输入一个四位数3125\n",
      "5213\n"
     ]
    }
   ],
   "source": [
    "num = eval ( input ('输入一个四位数'))\n",
    "a = num//1000\n",
    "b = num% 1000//100\n",
    "c = num% 100 // 10\n",
    "d = num% 10\n",
    "print (d,c ,b ,a, sep='')"
   ]
  },
  {
   "cell_type": "markdown",
   "metadata": {},
   "source": [
    "- 8 进阶：\n",
    "> 加密一串文本，并将解密后的文件写入本地保存"
   ]
  },
  {
   "cell_type": "code",
   "execution_count": 143,
   "metadata": {},
   "outputs": [
    {
     "name": "stdout",
     "output_type": "stream",
     "text": [
      ";:>==<@?CCJ{{8myw;:>==<@?CCJ{{8myw\n",
      "1043326599@qq.com\n"
     ]
    }
   ],
   "source": [
    "email = ('1043326599@qq.com')\n",
    "jia= ''\n",
    "jie= ''\n",
    "for i in email:\n",
    "    print(chr(ord(i) + 10),end ='')\n",
    "    jia = jia+chr(ord(i) +10 )\n",
    "print (jia)\n",
    "for i in jia:\n",
    "    jie = jie+chr(ord(i)-10)\n",
    "print (O)"
   ]
  }
 ],
 "metadata": {
  "kernelspec": {
   "display_name": "Python 3",
   "language": "python",
   "name": "python3"
  },
  "language_info": {
   "codemirror_mode": {
    "name": "ipython",
    "version": 3
   },
   "file_extension": ".py",
   "mimetype": "text/x-python",
   "name": "python",
   "nbconvert_exporter": "python",
   "pygments_lexer": "ipython3",
   "version": "3.6.4"
  }
 },
 "nbformat": 4,
 "nbformat_minor": 2
}
